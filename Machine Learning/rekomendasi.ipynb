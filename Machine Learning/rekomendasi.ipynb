{
 "cells": [
  {
   "cell_type": "code",
   "execution_count": 1,
   "metadata": {
    "executionInfo": {
     "elapsed": 18376,
     "status": "ok",
     "timestamp": 1732182171228,
     "user": {
      "displayName": "Fikri Agustina M004B4KX1502",
      "userId": "06726583462804954500"
     },
     "user_tz": -420
    },
    "id": "xL-n_73oS4LS"
   },
   "outputs": [],
   "source": [
    "import pandas as pd\n",
    "import numpy as np\n",
    "import tensorflow as tf\n",
    "from sklearn.preprocessing import LabelEncoder, StandardScaler\n",
    "from sklearn.model_selection import train_test_split"
   ]
  },
  {
   "cell_type": "code",
   "execution_count": 2,
   "metadata": {
    "colab": {
     "base_uri": "https://localhost:8080/",
     "height": 293
    },
    "executionInfo": {
     "elapsed": 762,
     "status": "ok",
     "timestamp": 1732182182922,
     "user": {
      "displayName": "Fikri Agustina M004B4KX1502",
      "userId": "06726583462804954500"
     },
     "user_tz": -420
    },
    "id": "jKCCnt0IfTGA",
    "outputId": "00542320-4380-4ed0-e321-28d913f66cc7"
   },
   "outputs": [
    {
     "data": {
      "application/vnd.google.colaboratory.intrinsic+json": {
       "summary": "{\n  \"name\": \"df\",\n  \"rows\": 437,\n  \"fields\": [\n    {\n      \"column\": \"id_place\",\n      \"properties\": {\n        \"dtype\": \"number\",\n        \"std\": 126,\n        \"min\": 1,\n        \"max\": 437,\n        \"num_unique_values\": 437,\n        \"samples\": [\n          394,\n          74,\n          277\n        ],\n        \"semantic_type\": \"\",\n        \"description\": \"\"\n      }\n    },\n    {\n      \"column\": \"name_place\",\n      \"properties\": {\n        \"dtype\": \"string\",\n        \"num_unique_values\": 437,\n        \"samples\": [\n          \"Air Mancur Menari\",\n          \"Museum Tengah Kebun\",\n          \"Peta Park\"\n        ],\n        \"semantic_type\": \"\",\n        \"description\": \"\"\n      }\n    },\n    {\n      \"column\": \"price_place\",\n      \"properties\": {\n        \"dtype\": \"number\",\n        \"std\": 66446,\n        \"min\": 0,\n        \"max\": 900000,\n        \"num_unique_values\": 50,\n        \"samples\": [\n          185000,\n          81000,\n          7000\n        ],\n        \"semantic_type\": \"\",\n        \"description\": \"\"\n      }\n    },\n    {\n      \"column\": \"rating_place\",\n      \"properties\": {\n        \"dtype\": \"number\",\n        \"std\": 0.2085873964321152,\n        \"min\": 3.4,\n        \"max\": 5.0,\n        \"num_unique_values\": 14,\n        \"samples\": [\n          5.0,\n          3.9,\n          4.5\n        ],\n        \"semantic_type\": \"\",\n        \"description\": \"\"\n      }\n    },\n    {\n      \"column\": \"id_city\",\n      \"properties\": {\n        \"dtype\": \"number\",\n        \"std\": 26,\n        \"min\": 212,\n        \"max\": 281,\n        \"num_unique_values\": 10,\n        \"samples\": [\n          258,\n          216,\n          217\n        ],\n        \"semantic_type\": \"\",\n        \"description\": \"\"\n      }\n    },\n    {\n      \"column\": \"id_category\",\n      \"properties\": {\n        \"dtype\": \"number\",\n        \"std\": 1,\n        \"min\": 1,\n        \"max\": 6,\n        \"num_unique_values\": 6,\n        \"samples\": [\n          2,\n          1,\n          6\n        ],\n        \"semantic_type\": \"\",\n        \"description\": \"\"\n      }\n    },\n    {\n      \"column\": \"name_category\",\n      \"properties\": {\n        \"dtype\": \"category\",\n        \"num_unique_values\": 6,\n        \"samples\": [\n          \"Taman Hiburan\",\n          \"Budaya\",\n          \"Tempat Ibadah\"\n        ],\n        \"semantic_type\": \"\",\n        \"description\": \"\"\n      }\n    },\n    {\n      \"column\": \"name_city\",\n      \"properties\": {\n        \"dtype\": \"category\",\n        \"num_unique_values\": 10,\n        \"samples\": [\n          \"Semarang\",\n          \"Jakarta Pusat\",\n          \"Kepulauan Seribu\"\n        ],\n        \"semantic_type\": \"\",\n        \"description\": \"\"\n      }\n    },\n    {\n      \"column\": \"desc_place\",\n      \"properties\": {\n        \"dtype\": \"string\",\n        \"num_unique_values\": 437,\n        \"samples\": [\n          \"Jembatan Kenjeran dengan air mancur menarinya sejatinya bukan hanya sebuah jembatan penghubung jalan saja, namun juga dimanfaatkan sebagai destinasi wisata oleh pemerintah kota Surabaya. Posisi air mancur menari sendiri berada di ujung jembatan Kenjeran dekat dengan anjungan penyeberangan atau di Taman Hiburan Pantai (THP). Lokasi ini sangat ramah kaum difabel karena tersedia lift yang dapat mereka gunakan untuk mempermudah perjalanan mereka. Sembari menunggu pertunjukan air mancur menari yang spektakuler di jembatan Kenjeran ini, Anda dapat menikmati pemandangan indah matahari terbenam (sunset) di jembatan ini. Jangan lewatkan untuk berfoto dengan laut lepas yang memesona sebagai latar belakangnya. Anda juga dapat menikmati berbagai kuliner lezat khas Jawa Timur di lokasi ini karena banyak pedagang kaki lima yang berjualan di sini. Berbagai mainan anak-anak pun dijual di lokasi ini. Jadi tidak perlu kuatir bahwa anak-anak akan merasa bosan menunggu pertunjukan air mancur menari yang mereka tunggu-tunggu. Silakan atur jadwal kunjungan Anda untuk menyaksikan taman air mancur menari Kenjeran ini dan buktikan sendiri keindahannya. Pastikan bahwa mobilitas Anda terjamin dengan sewa mobil Surabaya karena di lokasi ini masih minim transportasi online pada malam hari.\",\n          \"Museum di Tengah Kebun adalah sebuah museum penyimpanan \\u00b1 4.000 koleksi seni dan sejarah Indonesia dan luar negeri yang berlokasi di daerah Kemang, Jakarta Selatan. Museum ini dibangun di tengah kebun seluas 3.500 m2. Museum ini dimiliki secara pribadi oleh Sjahrial Djalil, salah satu tokoh periklanan modern Indonesia dan pendiri biro iklan Ad Force Inc. Pada tahun 2013, museum ini terpilih sebagai Museum Swasta Terbaik di Museum Awards dengan koleksi dari 63 negara dan 26 provinsi di Indonesia.[2] Hal yang membuat museum ini berbeda dari museum lainnya adalah penataan sebanyak 2.414 koleksi yang dipamerkan kepada pengunjung diletakkan tidak beraturan di berbagai sudut ruangan, seperti lantai, tangah taman, toilet, dinding luar rumah, dan lain sebagainya.\",\n          \"Bandung seperti tidak henti menawarkan tempat wisata menarik untuk dikunjungi. Terutama untuk para anak muda. Beberapa waktu lalu Peta Park Bandung dibuka. Tempat wisata yang menawarkan konsep taman-taman yang bersih dan indah. Sangat cocok sebagai tempat bersantai dan menghindari hiruk-pikuk kota. Taman rekreasi yang ada di pusat kota Bandung ini memiliki konsep taman piknik. Karena hal tersebut, saat berada di sini, pengunjung tidak hanya bisa berfoto. Akan tetapi juga bisa melakukan kegiatan yang lainnya misalnya berpiknik.\"\n        ],\n        \"semantic_type\": \"\",\n        \"description\": \"\"\n      }\n    }\n  ]\n}",
       "type": "dataframe",
       "variable_name": "df"
      },
      "text/html": [
       "\n",
       "  <div id=\"df-b19273f0-da71-4a23-8871-7f318332f88a\" class=\"colab-df-container\">\n",
       "    <div>\n",
       "<style scoped>\n",
       "    .dataframe tbody tr th:only-of-type {\n",
       "        vertical-align: middle;\n",
       "    }\n",
       "\n",
       "    .dataframe tbody tr th {\n",
       "        vertical-align: top;\n",
       "    }\n",
       "\n",
       "    .dataframe thead th {\n",
       "        text-align: right;\n",
       "    }\n",
       "</style>\n",
       "<table border=\"1\" class=\"dataframe\">\n",
       "  <thead>\n",
       "    <tr style=\"text-align: right;\">\n",
       "      <th></th>\n",
       "      <th>id_place</th>\n",
       "      <th>name_place</th>\n",
       "      <th>price_place</th>\n",
       "      <th>rating_place</th>\n",
       "      <th>id_city</th>\n",
       "      <th>id_category</th>\n",
       "      <th>name_category</th>\n",
       "      <th>name_city</th>\n",
       "      <th>desc_place</th>\n",
       "    </tr>\n",
       "  </thead>\n",
       "  <tbody>\n",
       "    <tr>\n",
       "      <th>0</th>\n",
       "      <td>6</td>\n",
       "      <td>Taman Impian Jaya Ancol</td>\n",
       "      <td>25000</td>\n",
       "      <td>4.5</td>\n",
       "      <td>212</td>\n",
       "      <td>2</td>\n",
       "      <td>Taman Hiburan</td>\n",
       "      <td>Jakarta Utara</td>\n",
       "      <td>Taman Impian Jaya Ancol merupakan sebuah objek...</td>\n",
       "    </tr>\n",
       "    <tr>\n",
       "      <th>1</th>\n",
       "      <td>47</td>\n",
       "      <td>Taman Situ Lembang</td>\n",
       "      <td>0</td>\n",
       "      <td>4.5</td>\n",
       "      <td>216</td>\n",
       "      <td>2</td>\n",
       "      <td>Taman Hiburan</td>\n",
       "      <td>Jakarta Pusat</td>\n",
       "      <td>Taman Situ Lembang adalah sebuah taman kota ya...</td>\n",
       "    </tr>\n",
       "    <tr>\n",
       "      <th>2</th>\n",
       "      <td>66</td>\n",
       "      <td>Museum Layang-layang</td>\n",
       "      <td>10000</td>\n",
       "      <td>4.5</td>\n",
       "      <td>215</td>\n",
       "      <td>1</td>\n",
       "      <td>Budaya</td>\n",
       "      <td>Jakarta Selatan</td>\n",
       "      <td>Museum Layang-Layang adalah sebuah museum yang...</td>\n",
       "    </tr>\n",
       "    <tr>\n",
       "      <th>3</th>\n",
       "      <td>1</td>\n",
       "      <td>Monumen Nasional</td>\n",
       "      <td>20000</td>\n",
       "      <td>4.6</td>\n",
       "      <td>216</td>\n",
       "      <td>1</td>\n",
       "      <td>Budaya</td>\n",
       "      <td>Jakarta Pusat</td>\n",
       "      <td>Monumen Nasional atau yang populer disingkat d...</td>\n",
       "    </tr>\n",
       "    <tr>\n",
       "      <th>4</th>\n",
       "      <td>2</td>\n",
       "      <td>Kota Tua</td>\n",
       "      <td>0</td>\n",
       "      <td>4.6</td>\n",
       "      <td>213</td>\n",
       "      <td>1</td>\n",
       "      <td>Budaya</td>\n",
       "      <td>Jakarta Barat</td>\n",
       "      <td>Kota tua di Jakarta, yang juga bernama Kota Tu...</td>\n",
       "    </tr>\n",
       "  </tbody>\n",
       "</table>\n",
       "</div>\n",
       "    <div class=\"colab-df-buttons\">\n",
       "\n",
       "  <div class=\"colab-df-container\">\n",
       "    <button class=\"colab-df-convert\" onclick=\"convertToInteractive('df-b19273f0-da71-4a23-8871-7f318332f88a')\"\n",
       "            title=\"Convert this dataframe to an interactive table.\"\n",
       "            style=\"display:none;\">\n",
       "\n",
       "  <svg xmlns=\"http://www.w3.org/2000/svg\" height=\"24px\" viewBox=\"0 -960 960 960\">\n",
       "    <path d=\"M120-120v-720h720v720H120Zm60-500h600v-160H180v160Zm220 220h160v-160H400v160Zm0 220h160v-160H400v160ZM180-400h160v-160H180v160Zm440 0h160v-160H620v160ZM180-180h160v-160H180v160Zm440 0h160v-160H620v160Z\"/>\n",
       "  </svg>\n",
       "    </button>\n",
       "\n",
       "  <style>\n",
       "    .colab-df-container {\n",
       "      display:flex;\n",
       "      gap: 12px;\n",
       "    }\n",
       "\n",
       "    .colab-df-convert {\n",
       "      background-color: #E8F0FE;\n",
       "      border: none;\n",
       "      border-radius: 50%;\n",
       "      cursor: pointer;\n",
       "      display: none;\n",
       "      fill: #1967D2;\n",
       "      height: 32px;\n",
       "      padding: 0 0 0 0;\n",
       "      width: 32px;\n",
       "    }\n",
       "\n",
       "    .colab-df-convert:hover {\n",
       "      background-color: #E2EBFA;\n",
       "      box-shadow: 0px 1px 2px rgba(60, 64, 67, 0.3), 0px 1px 3px 1px rgba(60, 64, 67, 0.15);\n",
       "      fill: #174EA6;\n",
       "    }\n",
       "\n",
       "    .colab-df-buttons div {\n",
       "      margin-bottom: 4px;\n",
       "    }\n",
       "\n",
       "    [theme=dark] .colab-df-convert {\n",
       "      background-color: #3B4455;\n",
       "      fill: #D2E3FC;\n",
       "    }\n",
       "\n",
       "    [theme=dark] .colab-df-convert:hover {\n",
       "      background-color: #434B5C;\n",
       "      box-shadow: 0px 1px 3px 1px rgba(0, 0, 0, 0.15);\n",
       "      filter: drop-shadow(0px 1px 2px rgba(0, 0, 0, 0.3));\n",
       "      fill: #FFFFFF;\n",
       "    }\n",
       "  </style>\n",
       "\n",
       "    <script>\n",
       "      const buttonEl =\n",
       "        document.querySelector('#df-b19273f0-da71-4a23-8871-7f318332f88a button.colab-df-convert');\n",
       "      buttonEl.style.display =\n",
       "        google.colab.kernel.accessAllowed ? 'block' : 'none';\n",
       "\n",
       "      async function convertToInteractive(key) {\n",
       "        const element = document.querySelector('#df-b19273f0-da71-4a23-8871-7f318332f88a');\n",
       "        const dataTable =\n",
       "          await google.colab.kernel.invokeFunction('convertToInteractive',\n",
       "                                                    [key], {});\n",
       "        if (!dataTable) return;\n",
       "\n",
       "        const docLinkHtml = 'Like what you see? Visit the ' +\n",
       "          '<a target=\"_blank\" href=https://colab.research.google.com/notebooks/data_table.ipynb>data table notebook</a>'\n",
       "          + ' to learn more about interactive tables.';\n",
       "        element.innerHTML = '';\n",
       "        dataTable['output_type'] = 'display_data';\n",
       "        await google.colab.output.renderOutput(dataTable, element);\n",
       "        const docLink = document.createElement('div');\n",
       "        docLink.innerHTML = docLinkHtml;\n",
       "        element.appendChild(docLink);\n",
       "      }\n",
       "    </script>\n",
       "  </div>\n",
       "\n",
       "\n",
       "<div id=\"df-972c1522-ba49-4b35-b976-93f0bb85dbcb\">\n",
       "  <button class=\"colab-df-quickchart\" onclick=\"quickchart('df-972c1522-ba49-4b35-b976-93f0bb85dbcb')\"\n",
       "            title=\"Suggest charts\"\n",
       "            style=\"display:none;\">\n",
       "\n",
       "<svg xmlns=\"http://www.w3.org/2000/svg\" height=\"24px\"viewBox=\"0 0 24 24\"\n",
       "     width=\"24px\">\n",
       "    <g>\n",
       "        <path d=\"M19 3H5c-1.1 0-2 .9-2 2v14c0 1.1.9 2 2 2h14c1.1 0 2-.9 2-2V5c0-1.1-.9-2-2-2zM9 17H7v-7h2v7zm4 0h-2V7h2v10zm4 0h-2v-4h2v4z\"/>\n",
       "    </g>\n",
       "</svg>\n",
       "  </button>\n",
       "\n",
       "<style>\n",
       "  .colab-df-quickchart {\n",
       "      --bg-color: #E8F0FE;\n",
       "      --fill-color: #1967D2;\n",
       "      --hover-bg-color: #E2EBFA;\n",
       "      --hover-fill-color: #174EA6;\n",
       "      --disabled-fill-color: #AAA;\n",
       "      --disabled-bg-color: #DDD;\n",
       "  }\n",
       "\n",
       "  [theme=dark] .colab-df-quickchart {\n",
       "      --bg-color: #3B4455;\n",
       "      --fill-color: #D2E3FC;\n",
       "      --hover-bg-color: #434B5C;\n",
       "      --hover-fill-color: #FFFFFF;\n",
       "      --disabled-bg-color: #3B4455;\n",
       "      --disabled-fill-color: #666;\n",
       "  }\n",
       "\n",
       "  .colab-df-quickchart {\n",
       "    background-color: var(--bg-color);\n",
       "    border: none;\n",
       "    border-radius: 50%;\n",
       "    cursor: pointer;\n",
       "    display: none;\n",
       "    fill: var(--fill-color);\n",
       "    height: 32px;\n",
       "    padding: 0;\n",
       "    width: 32px;\n",
       "  }\n",
       "\n",
       "  .colab-df-quickchart:hover {\n",
       "    background-color: var(--hover-bg-color);\n",
       "    box-shadow: 0 1px 2px rgba(60, 64, 67, 0.3), 0 1px 3px 1px rgba(60, 64, 67, 0.15);\n",
       "    fill: var(--button-hover-fill-color);\n",
       "  }\n",
       "\n",
       "  .colab-df-quickchart-complete:disabled,\n",
       "  .colab-df-quickchart-complete:disabled:hover {\n",
       "    background-color: var(--disabled-bg-color);\n",
       "    fill: var(--disabled-fill-color);\n",
       "    box-shadow: none;\n",
       "  }\n",
       "\n",
       "  .colab-df-spinner {\n",
       "    border: 2px solid var(--fill-color);\n",
       "    border-color: transparent;\n",
       "    border-bottom-color: var(--fill-color);\n",
       "    animation:\n",
       "      spin 1s steps(1) infinite;\n",
       "  }\n",
       "\n",
       "  @keyframes spin {\n",
       "    0% {\n",
       "      border-color: transparent;\n",
       "      border-bottom-color: var(--fill-color);\n",
       "      border-left-color: var(--fill-color);\n",
       "    }\n",
       "    20% {\n",
       "      border-color: transparent;\n",
       "      border-left-color: var(--fill-color);\n",
       "      border-top-color: var(--fill-color);\n",
       "    }\n",
       "    30% {\n",
       "      border-color: transparent;\n",
       "      border-left-color: var(--fill-color);\n",
       "      border-top-color: var(--fill-color);\n",
       "      border-right-color: var(--fill-color);\n",
       "    }\n",
       "    40% {\n",
       "      border-color: transparent;\n",
       "      border-right-color: var(--fill-color);\n",
       "      border-top-color: var(--fill-color);\n",
       "    }\n",
       "    60% {\n",
       "      border-color: transparent;\n",
       "      border-right-color: var(--fill-color);\n",
       "    }\n",
       "    80% {\n",
       "      border-color: transparent;\n",
       "      border-right-color: var(--fill-color);\n",
       "      border-bottom-color: var(--fill-color);\n",
       "    }\n",
       "    90% {\n",
       "      border-color: transparent;\n",
       "      border-bottom-color: var(--fill-color);\n",
       "    }\n",
       "  }\n",
       "</style>\n",
       "\n",
       "  <script>\n",
       "    async function quickchart(key) {\n",
       "      const quickchartButtonEl =\n",
       "        document.querySelector('#' + key + ' button');\n",
       "      quickchartButtonEl.disabled = true;  // To prevent multiple clicks.\n",
       "      quickchartButtonEl.classList.add('colab-df-spinner');\n",
       "      try {\n",
       "        const charts = await google.colab.kernel.invokeFunction(\n",
       "            'suggestCharts', [key], {});\n",
       "      } catch (error) {\n",
       "        console.error('Error during call to suggestCharts:', error);\n",
       "      }\n",
       "      quickchartButtonEl.classList.remove('colab-df-spinner');\n",
       "      quickchartButtonEl.classList.add('colab-df-quickchart-complete');\n",
       "    }\n",
       "    (() => {\n",
       "      let quickchartButtonEl =\n",
       "        document.querySelector('#df-972c1522-ba49-4b35-b976-93f0bb85dbcb button');\n",
       "      quickchartButtonEl.style.display =\n",
       "        google.colab.kernel.accessAllowed ? 'block' : 'none';\n",
       "    })();\n",
       "  </script>\n",
       "</div>\n",
       "\n",
       "    </div>\n",
       "  </div>\n"
      ],
      "text/plain": [
       "   id_place               name_place  price_place  rating_place  id_city  \\\n",
       "0         6  Taman Impian Jaya Ancol        25000           4.5      212   \n",
       "1        47       Taman Situ Lembang            0           4.5      216   \n",
       "2        66     Museum Layang-layang        10000           4.5      215   \n",
       "3         1         Monumen Nasional        20000           4.6      216   \n",
       "4         2                 Kota Tua            0           4.6      213   \n",
       "\n",
       "   id_category  name_category        name_city  \\\n",
       "0            2  Taman Hiburan    Jakarta Utara   \n",
       "1            2  Taman Hiburan    Jakarta Pusat   \n",
       "2            1         Budaya  Jakarta Selatan   \n",
       "3            1         Budaya    Jakarta Pusat   \n",
       "4            1         Budaya    Jakarta Barat   \n",
       "\n",
       "                                          desc_place  \n",
       "0  Taman Impian Jaya Ancol merupakan sebuah objek...  \n",
       "1  Taman Situ Lembang adalah sebuah taman kota ya...  \n",
       "2  Museum Layang-Layang adalah sebuah museum yang...  \n",
       "3  Monumen Nasional atau yang populer disingkat d...  \n",
       "4  Kota tua di Jakarta, yang juga bernama Kota Tu...  "
      ]
     },
     "execution_count": 2,
     "metadata": {},
     "output_type": "execute_result"
    }
   ],
   "source": [
    "df = pd.read_csv(\"https://raw.githubusercontent.com/MuhammadYusufAndrika/tripskuy-capstone/refs/heads/main/fix_tourism.csv\")\n",
    "df.head()"
   ]
  },
  {
   "cell_type": "code",
   "execution_count": 3,
   "metadata": {
    "executionInfo": {
     "elapsed": 367,
     "status": "ok",
     "timestamp": 1732182195563,
     "user": {
      "displayName": "Fikri Agustina M004B4KX1502",
      "userId": "06726583462804954500"
     },
     "user_tz": -420
    },
    "id": "VSc3QjEofVS1"
   },
   "outputs": [],
   "source": [
    "#encode/mengubah category dan city untuk inputan agar mudah di proses\n",
    "le_category = LabelEncoder()\n",
    "le_city = LabelEncoder()\n",
    "df['category_encoded'] = le_category.fit_transform(df['name_category'])\n",
    "df['city_encoded'] = le_city.fit_transform(df['name_city'])"
   ]
  },
  {
   "cell_type": "code",
   "execution_count": 4,
   "metadata": {
    "executionInfo": {
     "elapsed": 374,
     "status": "ok",
     "timestamp": 1732182198779,
     "user": {
      "displayName": "Fikri Agustina M004B4KX1502",
      "userId": "06726583462804954500"
     },
     "user_tz": -420
    },
    "id": "cjCX4Z_QfvqR"
   },
   "outputs": [],
   "source": [
    "#fitur prediksi / inputan\n",
    "X = df[['category_encoded', 'price_place', 'city_encoded']]\n",
    "#target prediksi\n",
    "y = df['id_place']\n",
    "\n",
    "X_train, X_test, y_train, y_test = train_test_split(X, y, test_size=0.2, random_state=42)"
   ]
  },
  {
   "cell_type": "code",
   "execution_count": 5,
   "metadata": {
    "executionInfo": {
     "elapsed": 383,
     "status": "ok",
     "timestamp": 1732182201404,
     "user": {
      "displayName": "Fikri Agustina M004B4KX1502",
      "userId": "06726583462804954500"
     },
     "user_tz": -420
    },
    "id": "N-ldYsRcf1rl"
   },
   "outputs": [],
   "source": [
    "#scaler sebagai alat yang akan melakukan standardisasi.\n",
    "scaler = StandardScaler()\n",
    "X_train_scaled = scaler.fit_transform(X_train)\n",
    "X_test_scaled = scaler.transform(X_test)"
   ]
  },
  {
   "cell_type": "code",
   "execution_count": 6,
   "metadata": {
    "executionInfo": {
     "elapsed": 382,
     "status": "ok",
     "timestamp": 1732182204164,
     "user": {
      "displayName": "Fikri Agustina M004B4KX1502",
      "userId": "06726583462804954500"
     },
     "user_tz": -420
    },
    "id": "332OB0pWf2pv"
   },
   "outputs": [],
   "source": [
    "#convert data ke tensorflow\n",
    "X_train_tf = tf.convert_to_tensor(X_train_scaled, dtype=tf.float32)\n",
    "y_train_tf = tf.convert_to_tensor(y_train.values, dtype=tf.float32)\n",
    "X_test_tf = tf.convert_to_tensor(X_test_scaled, dtype=tf.float32)\n",
    "y_test_tf = tf.convert_to_tensor(y_test.values, dtype=tf.float32)"
   ]
  },
  {
   "cell_type": "code",
   "execution_count": 7,
   "metadata": {
    "colab": {
     "base_uri": "https://localhost:8080/"
    },
    "executionInfo": {
     "elapsed": 388,
     "status": "ok",
     "timestamp": 1732182207280,
     "user": {
      "displayName": "Fikri Agustina M004B4KX1502",
      "userId": "06726583462804954500"
     },
     "user_tz": -420
    },
    "id": "UNanIig8f6Ea",
    "outputId": "7cd8daf0-b8e5-4f69-ddfa-5fc31285d999"
   },
   "outputs": [
    {
     "name": "stderr",
     "output_type": "stream",
     "text": [
      "/usr/local/lib/python3.10/dist-packages/keras/src/layers/core/dense.py:87: UserWarning: Do not pass an `input_shape`/`input_dim` argument to a layer. When using Sequential models, prefer using an `Input(shape)` object as the first layer in the model instead.\n",
      "  super().__init__(activity_regularizer=activity_regularizer, **kwargs)\n"
     ]
    }
   ],
   "source": [
    "#create model\n",
    "model = tf.keras.Sequential([\n",
    "    tf.keras.layers.Dense(64, activation='relu', input_shape=(3,)),\n",
    "    tf.keras.layers.Dropout(0.2),\n",
    "    tf.keras.layers.Dense(32, activation='relu'),\n",
    "    tf.keras.layers.Dropout(0.2),\n",
    "    tf.keras.layers.Dense(16, activation='relu'),\n",
    "    tf.keras.layers.Dense(1)\n",
    "])\n"
   ]
  },
  {
   "cell_type": "code",
   "execution_count": 8,
   "metadata": {
    "executionInfo": {
     "elapsed": 376,
     "status": "ok",
     "timestamp": 1732182210414,
     "user": {
      "displayName": "Fikri Agustina M004B4KX1502",
      "userId": "06726583462804954500"
     },
     "user_tz": -420
    },
    "id": "s2nlg9Ppf9JB"
   },
   "outputs": [],
   "source": [
    "model.compile(\n",
    "    #menggunakan optimizer adam\n",
    "    optimizer=tf.keras.optimizers.Adam(learning_rate=0.001),\n",
    "    loss='mse',\n",
    "    metrics=['mae']\n",
    ")"
   ]
  },
  {
   "cell_type": "code",
   "execution_count": 9,
   "metadata": {
    "executionInfo": {
     "elapsed": 412,
     "status": "ok",
     "timestamp": 1732182213949,
     "user": {
      "displayName": "Fikri Agustina M004B4KX1502",
      "userId": "06726583462804954500"
     },
     "user_tz": -420
    },
    "id": "HEYw4iFvf_Tj"
   },
   "outputs": [],
   "source": [
    "# mencegah overfitting\n",
    "early_stopping = tf.keras.callbacks.EarlyStopping(\n",
    "    monitor='val_loss',\n",
    "    patience=10,\n",
    "    restore_best_weights=True\n",
    ")"
   ]
  },
  {
   "cell_type": "code",
   "execution_count": 10,
   "metadata": {
    "colab": {
     "base_uri": "https://localhost:8080/"
    },
    "executionInfo": {
     "elapsed": 14188,
     "status": "ok",
     "timestamp": 1732182230968,
     "user": {
      "displayName": "Fikri Agustina M004B4KX1502",
      "userId": "06726583462804954500"
     },
     "user_tz": -420
    },
    "id": "Ebqy-8JtgCbl",
    "outputId": "e6dee768-9e05-449e-ac99-e396e932fc3c"
   },
   "outputs": [
    {
     "data": {
      "text/plain": [
       "<keras.src.callbacks.history.History at 0x7f8ae79707f0>"
      ]
     },
     "execution_count": 10,
     "metadata": {},
     "output_type": "execute_result"
    }
   ],
   "source": [
    "model.fit(\n",
    "    X_train_tf,\n",
    "    y_train_tf,\n",
    "    epochs=100,\n",
    "    batch_size=32,\n",
    "    validation_split=0.2,\n",
    "    callbacks=[early_stopping],\n",
    "    verbose=0\n",
    ")"
   ]
  },
  {
   "cell_type": "markdown",
   "metadata": {
    "id": "RS07ZqSY0lsV"
   },
   "source": [
    "Available Categories:\n",
    "['Taman Hiburan' 'Budaya' 'Cagar Alam' 'Bahari' 'Pusat Perbelanjaan'\n",
    " 'Tempat Ibadah']\n",
    "\n",
    "\n",
    "Available Cities:\n",
    "['Jakarta Utara' 'Jakarta Pusat' 'Jakarta Selatan' 'Jakarta Barat'\n",
    " 'Jakarta Timur' 'Kepulauan Seribu' 'Yogyakarta' 'Bandung' 'Semarang'\n",
    " 'Surabaya']"
   ]
  },
  {
   "cell_type": "code",
   "execution_count": null,
   "metadata": {
    "colab": {
     "background_save": true,
     "base_uri": "https://localhost:8080/"
    },
    "id": "6hhk-aGlgKV1"
   },
   "outputs": [
    {
     "name": "stdout",
     "output_type": "stream",
     "text": [
      "\n",
      "=== Tourism Destination Recommendations ===\n",
      "\n",
      "Available Categories:\n",
      "['Taman Hiburan' 'Budaya' 'Cagar Alam' 'Bahari' 'Pusat Perbelanjaan'\n",
      " 'Tempat Ibadah']\n"
     ]
    }
   ],
   "source": [
    "def main():\n",
    "    while True:\n",
    "        print(\"\\n=== Tourism Destination Recommendations ===\")\n",
    "\n",
    "        print(\"\\nAvailable Categories:\")\n",
    "        print(df['name_category'].unique())\n",
    "        category = input(\"Enter Tourism Category: \")\n",
    "\n",
    "        print(\"\\nAvailable Cities:\")\n",
    "        print(df['name_city'].unique())\n",
    "        city = input(\"Enter Destination City: \")\n",
    "\n",
    "        while True:\n",
    "            try:\n",
    "                price = float(input(\"Enter Price (Rp): \"))\n",
    "                break\n",
    "            except ValueError:\n",
    "                print(\"Please enter a valid number for price!\")\n",
    "\n",
    "        category_encoded = le_category.transform([category])[0]\n",
    "        city_encoded = le_city.transform([city])[0]\n",
    "        input_data = scaler.transform([[category_encoded, price, city_encoded]])\n",
    "        input_tensor = tf.convert_to_tensor(input_data, dtype=tf.float32)\n",
    "        predicted_rating = float(model.predict(input_tensor, verbose=0)[0][0])\n",
    "        print(f\"\\nPredicted Rating: {predicted_rating:.2f}\")\n",
    "\n",
    "        filtered_df = df[\n",
    "            (df['name_category'] == category) &\n",
    "            (df['name_city'] == city)\n",
    "        ]\n",
    "\n",
    "        if filtered_df.empty:\n",
    "            print(\"No destinations match the criteria.\")\n",
    "        else:\n",
    "            filtered_df['price_diff'] = abs(filtered_df['price_place'] - price)\n",
    "            recommendations = filtered_df.nsmallest(5, 'price_diff')[['id_place', 'name_place', 'price_place', 'rating_place' , 'desc_place']].reset_index(drop=True)\n",
    "            print(\"\\nRecommended Destinations:\")\n",
    "            print(recommendations)\n",
    "\n",
    "        if input(\"\\nWant to search for more recommendations? (y/n): \").lower() != 'y':\n",
    "            break\n",
    "\n",
    "\n",
    "if __name__ == \"__main__\":\n",
    "    main()"
   ]
  },
  {
   "cell_type": "code",
   "execution_count": null,
   "metadata": {
    "id": "UF8uGufz2X0I"
   },
   "outputs": [],
   "source": [
    "import os\n",
    "\n",
    "# Save the model\n",
    "model.save('tourism_recommendation_model.keras') # Add .keras extension to the filename\n",
    "\n",
    "# Check if the model directory exists, if not create one\n",
    "model_directory = 'tourism_recommendation_model'\n",
    "if not os.path.exists(model_directory):\n",
    "    os.makedirs(model_directory)\n",
    "\n",
    "# Save the label encoders and scaler\n",
    "import joblib\n",
    "joblib.dump(le_category, os.path.join(model_directory, 'le_category.pkl'))\n",
    "joblib.dump(le_city, os.path.join(model_directory, 'le_city.pkl'))\n",
    "joblib.dump(scaler, os.path.join(model_directory, 'scaler.pkl'))"
   ]
  }
 ],
 "metadata": {
  "colab": {
   "name": "",
   "version": ""
  },
  "kernelspec": {
   "display_name": "Python 3",
   "name": "python3"
  },
  "language_info": {
   "name": "python"
  }
 },
 "nbformat": 4,
 "nbformat_minor": 0
}
